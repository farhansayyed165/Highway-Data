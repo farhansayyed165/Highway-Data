{
 "cells": [
  {
   "cell_type": "code",
   "execution_count": 1,
   "metadata": {
    "executionInfo": {
     "elapsed": 980,
     "status": "ok",
     "timestamp": 1670937163843,
     "user": {
      "displayName": "Farhan Sayyed",
      "userId": "08467715344695792582"
     },
     "user_tz": -330
    },
    "id": "whr4pkI9Kocm"
   },
   "outputs": [],
   "source": [
    "from sklearn.metrics import roc_curve, auc, accuracy_score, confusion_matrix, classification_report\n",
    "from sklearn.model_selection import train_test_split\n",
    "import pandas as pd\n",
    "import matplotlib.pyplot as plt\n",
    "import seaborn as sns\n",
    "import numpy as np\n",
    "from sklearn.ensemble import RandomForestClassifier\n",
    "from sklearn.preprocessing import StandardScaler"
   ]
  },
  {
   "cell_type": "code",
   "execution_count": 5,
   "metadata": {
    "executionInfo": {
     "elapsed": 373,
     "status": "ok",
     "timestamp": 1670937193967,
     "user": {
      "displayName": "Farhan Sayyed",
      "userId": "08467715344695792582"
     },
     "user_tz": -330
    },
    "id": "A3xZIEBbM6cz"
   },
   "outputs": [],
   "source": [
    "df = pd.read_csv('https://raw.githubusercontent.com/farhansayyed165/Highway-Data/main/Data/Vehicles/Basic_CLassify.csv', index_col='Unnamed: 0')\n",
    "y = df.filter(like=\"vehicle\", axis=1)\n",
    "X = df.drop('vehicle', axis=1)\n",
    "X_train, X_test, y_train, y_test = train_test_split(X, y, test_size=0.3, random_state=42)\n",
    "d = pd.read_csv('https://raw.githubusercontent.com/farhansayyed165/Highway-Data/main/Data/Vehicles/Base_data.csv')"
   ]
  },
  {
   "cell_type": "code",
   "execution_count": 6,
   "metadata": {
    "colab": {
     "base_uri": "https://localhost:8080/",
     "height": 424
    },
    "executionInfo": {
     "elapsed": 918,
     "status": "ok",
     "timestamp": 1670937197821,
     "user": {
      "displayName": "Farhan Sayyed",
      "userId": "08467715344695792582"
     },
     "user_tz": -330
    },
    "id": "eWU7cri5NOct",
    "outputId": "9fb167ac-bd94-447c-aa0b-2c9e696f1261"
   },
   "outputs": [
    {
     "data": {
      "text/html": [
       "<div>\n",
       "<style scoped>\n",
       "    .dataframe tbody tr th:only-of-type {\n",
       "        vertical-align: middle;\n",
       "    }\n",
       "\n",
       "    .dataframe tbody tr th {\n",
       "        vertical-align: top;\n",
       "    }\n",
       "\n",
       "    .dataframe thead th {\n",
       "        text-align: right;\n",
       "    }\n",
       "</style>\n",
       "<table border=\"1\" class=\"dataframe\">\n",
       "  <thead>\n",
       "    <tr style=\"text-align: right;\">\n",
       "      <th></th>\n",
       "      <th>states</th>\n",
       "      <th>accidents</th>\n",
       "      <th>killed</th>\n",
       "      <th>injured</th>\n",
       "      <th>vehicle</th>\n",
       "      <th>year</th>\n",
       "    </tr>\n",
       "  </thead>\n",
       "  <tbody>\n",
       "    <tr>\n",
       "      <th>0</th>\n",
       "      <td>1</td>\n",
       "      <td>9409.0</td>\n",
       "      <td>2343.0</td>\n",
       "      <td>7712.0</td>\n",
       "      <td>1</td>\n",
       "      <td>2017.0</td>\n",
       "    </tr>\n",
       "    <tr>\n",
       "      <th>1</th>\n",
       "      <td>2</td>\n",
       "      <td>62.0</td>\n",
       "      <td>32.0</td>\n",
       "      <td>67.0</td>\n",
       "      <td>1</td>\n",
       "      <td>2017.0</td>\n",
       "    </tr>\n",
       "    <tr>\n",
       "      <th>2</th>\n",
       "      <td>3</td>\n",
       "      <td>2125.0</td>\n",
       "      <td>772.0</td>\n",
       "      <td>1567.0</td>\n",
       "      <td>1</td>\n",
       "      <td>2017.0</td>\n",
       "    </tr>\n",
       "    <tr>\n",
       "      <th>3</th>\n",
       "      <td>4</td>\n",
       "      <td>2035.0</td>\n",
       "      <td>1318.0</td>\n",
       "      <td>1219.0</td>\n",
       "      <td>1</td>\n",
       "      <td>2017.0</td>\n",
       "    </tr>\n",
       "    <tr>\n",
       "      <th>4</th>\n",
       "      <td>5</td>\n",
       "      <td>4696.0</td>\n",
       "      <td>1386.0</td>\n",
       "      <td>4012.0</td>\n",
       "      <td>1</td>\n",
       "      <td>2017.0</td>\n",
       "    </tr>\n",
       "    <tr>\n",
       "      <th>...</th>\n",
       "      <td>...</td>\n",
       "      <td>...</td>\n",
       "      <td>...</td>\n",
       "      <td>...</td>\n",
       "      <td>...</td>\n",
       "      <td>...</td>\n",
       "    </tr>\n",
       "    <tr>\n",
       "      <th>1075</th>\n",
       "      <td>32</td>\n",
       "      <td>5.0</td>\n",
       "      <td>3.0</td>\n",
       "      <td>3.0</td>\n",
       "      <td>7</td>\n",
       "      <td>2020.0</td>\n",
       "    </tr>\n",
       "    <tr>\n",
       "      <th>1076</th>\n",
       "      <td>33</td>\n",
       "      <td>0.0</td>\n",
       "      <td>0.0</td>\n",
       "      <td>0.0</td>\n",
       "      <td>7</td>\n",
       "      <td>2020.0</td>\n",
       "    </tr>\n",
       "    <tr>\n",
       "      <th>1077</th>\n",
       "      <td>34</td>\n",
       "      <td>259.0</td>\n",
       "      <td>120.0</td>\n",
       "      <td>234.0</td>\n",
       "      <td>7</td>\n",
       "      <td>2020.0</td>\n",
       "    </tr>\n",
       "    <tr>\n",
       "      <th>1078</th>\n",
       "      <td>35</td>\n",
       "      <td>0.0</td>\n",
       "      <td>0.0</td>\n",
       "      <td>0.0</td>\n",
       "      <td>7</td>\n",
       "      <td>2020.0</td>\n",
       "    </tr>\n",
       "    <tr>\n",
       "      <th>1079</th>\n",
       "      <td>36</td>\n",
       "      <td>0.0</td>\n",
       "      <td>0.0</td>\n",
       "      <td>0.0</td>\n",
       "      <td>7</td>\n",
       "      <td>2020.0</td>\n",
       "    </tr>\n",
       "  </tbody>\n",
       "</table>\n",
       "<p>1076 rows × 6 columns</p>\n",
       "</div>"
      ],
      "text/plain": [
       "      states  accidents  killed  injured  vehicle    year\n",
       "0          1     9409.0  2343.0   7712.0        1  2017.0\n",
       "1          2       62.0    32.0     67.0        1  2017.0\n",
       "2          3     2125.0   772.0   1567.0        1  2017.0\n",
       "3          4     2035.0  1318.0   1219.0        1  2017.0\n",
       "4          5     4696.0  1386.0   4012.0        1  2017.0\n",
       "...      ...        ...     ...      ...      ...     ...\n",
       "1075      32        5.0     3.0      3.0        7  2020.0\n",
       "1076      33        0.0     0.0      0.0        7  2020.0\n",
       "1077      34      259.0   120.0    234.0        7  2020.0\n",
       "1078      35        0.0     0.0      0.0        7  2020.0\n",
       "1079      36        0.0     0.0      0.0        7  2020.0\n",
       "\n",
       "[1076 rows x 6 columns]"
      ]
     },
     "execution_count": 6,
     "metadata": {},
     "output_type": "execute_result"
    }
   ],
   "source": [
    "df"
   ]
  },
  {
   "cell_type": "code",
   "execution_count": 5,
   "metadata": {
    "colab": {
     "base_uri": "https://localhost:8080/"
    },
    "executionInfo": {
     "elapsed": 3,
     "status": "ok",
     "timestamp": 1670937211047,
     "user": {
      "displayName": "Farhan Sayyed",
      "userId": "08467715344695792582"
     },
     "user_tz": -330
    },
    "id": "V8tbbBeLNxEc",
    "outputId": "9d8163c0-e13a-4ca1-b17f-8d9075a49497"
   },
   "outputs": [
    {
     "data": {
      "text/plain": [
       "(753, 1)"
      ]
     },
     "execution_count": 5,
     "metadata": {},
     "output_type": "execute_result"
    }
   ],
   "source": [
    "X_train, X_test, y_train, y_test = train_test_split(X, y, test_size=0.3, random_state=42)\n",
    "y_train.shape"
   ]
  },
  {
   "cell_type": "code",
   "execution_count": null,
   "metadata": {
    "id": "YfbyEg7CnngT"
   },
   "outputs": [],
   "source": []
  },
  {
   "cell_type": "code",
   "execution_count": 7,
   "metadata": {
    "executionInfo": {
     "elapsed": 3,
     "status": "ok",
     "timestamp": 1670937219716,
     "user": {
      "displayName": "Farhan Sayyed",
      "userId": "08467715344695792582"
     },
     "user_tz": -330
    },
    "id": "T4wwwHrlftJ_"
   },
   "outputs": [],
   "source": [
    "scaler = StandardScaler()\n",
    "X_train_scaled = scaler.fit_transform(X_train)\n",
    "X_test_scaled = scaler.transform(X_test)"
   ]
  },
  {
   "cell_type": "code",
   "execution_count": 8,
   "metadata": {
    "executionInfo": {
     "elapsed": 3,
     "status": "ok",
     "timestamp": 1670937232512,
     "user": {
      "displayName": "Farhan Sayyed",
      "userId": "08467715344695792582"
     },
     "user_tz": -330
    },
    "id": "Pzp-eYtAN0M_"
   },
   "outputs": [],
   "source": [
    "def forest_training(X_train, X_test, y_train, y_test, estimators):\n",
    "    cf = RandomForestClassifier(n_estimators=estimators,bootstrap=True )\n",
    "    cf.fit(X_train, y_train.values.ravel())\n",
    "\n",
    "    y_train_pred = cf.predict(X_train)\n",
    "    y_pred = cf.predict(X_test)\n",
    "\n",
    "    accuracy = accuracy_score(y_test, y_pred)\n",
    "    \n",
    "    print(\"Node: {}, Acc: {}\".format(estimators, accuracy))\n",
    "    print(\"---------------------------------\")"
   ]
  },
  {
   "cell_type": "code",
   "execution_count": 9,
   "metadata": {
    "colab": {
     "base_uri": "https://localhost:8080/"
    },
    "executionInfo": {
     "elapsed": 5635,
     "status": "ok",
     "timestamp": 1670937281903,
     "user": {
      "displayName": "Farhan Sayyed",
      "userId": "08467715344695792582"
     },
     "user_tz": -330
    },
    "id": "AFd5ikXYQA5h",
    "outputId": "24b45b38-6e93-4893-acf1-7e90976beac5"
   },
   "outputs": [
    {
     "name": "stdout",
     "output_type": "stream",
     "text": [
      "Node: 60, Acc: 0.3498452012383901\n",
      "---------------------------------\n",
      "Node: 61, Acc: 0.3560371517027864\n",
      "---------------------------------\n",
      "Node: 62, Acc: 0.33746130030959753\n",
      "---------------------------------\n",
      "Node: 63, Acc: 0.3219814241486068\n",
      "---------------------------------\n",
      "Node: 64, Acc: 0.34055727554179566\n",
      "---------------------------------\n",
      "Node: 65, Acc: 0.34365325077399383\n",
      "---------------------------------\n",
      "Node: 66, Acc: 0.34674922600619196\n",
      "---------------------------------\n",
      "Node: 67, Acc: 0.34674922600619196\n",
      "---------------------------------\n",
      "Node: 68, Acc: 0.34055727554179566\n",
      "---------------------------------\n",
      "Node: 69, Acc: 0.34365325077399383\n",
      "---------------------------------\n",
      "Node: 70, Acc: 0.3498452012383901\n",
      "---------------------------------\n",
      "Node: 71, Acc: 0.3591331269349845\n",
      "---------------------------------\n",
      "Node: 72, Acc: 0.34674922600619196\n",
      "---------------------------------\n",
      "Node: 73, Acc: 0.3498452012383901\n",
      "---------------------------------\n",
      "Node: 74, Acc: 0.34055727554179566\n",
      "---------------------------------\n",
      "Node: 75, Acc: 0.34674922600619196\n",
      "---------------------------------\n",
      "Node: 76, Acc: 0.35294117647058826\n",
      "---------------------------------\n",
      "Node: 77, Acc: 0.34055727554179566\n",
      "---------------------------------\n",
      "Node: 78, Acc: 0.33746130030959753\n",
      "---------------------------------\n",
      "Node: 79, Acc: 0.3622291021671827\n",
      "---------------------------------\n",
      "Node: 80, Acc: 0.33126934984520123\n",
      "---------------------------------\n",
      "Node: 81, Acc: 0.33746130030959753\n",
      "---------------------------------\n",
      "Node: 82, Acc: 0.33436532507739936\n",
      "---------------------------------\n",
      "Node: 83, Acc: 0.33436532507739936\n",
      "---------------------------------\n",
      "Node: 84, Acc: 0.33436532507739936\n",
      "---------------------------------\n",
      "Node: 85, Acc: 0.3219814241486068\n",
      "---------------------------------\n",
      "Node: 86, Acc: 0.33126934984520123\n",
      "---------------------------------\n",
      "Node: 87, Acc: 0.3281733746130031\n",
      "---------------------------------\n",
      "Node: 88, Acc: 0.33436532507739936\n",
      "---------------------------------\n",
      "Node: 89, Acc: 0.34674922600619196\n",
      "---------------------------------\n",
      "Node: 90, Acc: 0.3560371517027864\n",
      "---------------------------------\n",
      "Node: 91, Acc: 0.3281733746130031\n",
      "---------------------------------\n",
      "Node: 92, Acc: 0.34055727554179566\n",
      "---------------------------------\n",
      "Node: 93, Acc: 0.3498452012383901\n",
      "---------------------------------\n",
      "Node: 94, Acc: 0.33436532507739936\n",
      "---------------------------------\n",
      "Node: 95, Acc: 0.34055727554179566\n",
      "---------------------------------\n",
      "Node: 96, Acc: 0.34674922600619196\n",
      "---------------------------------\n",
      "Node: 97, Acc: 0.34055727554179566\n",
      "---------------------------------\n",
      "Node: 98, Acc: 0.3684210526315789\n",
      "---------------------------------\n",
      "Node: 99, Acc: 0.35294117647058826\n",
      "---------------------------------\n"
     ]
    }
   ],
   "source": [
    "for i in range(60,100):\n",
    "  forest_training(X_train, X_test, y_train, y_test, i)"
   ]
  },
  {
   "cell_type": "code",
   "execution_count": 10,
   "metadata": {
    "id": "UJoTJ0a4EW_b"
   },
   "outputs": [],
   "source": [
    "cf = RandomForestClassifier(n_estimators=62,bootstrap=True )\n",
    "cf.fit(X_train, y_train.values.ravel())\n",
    "\n",
    "y_pred = cf.predict(X_test)\n",
    "\n",
    "accuracy = accuracy_score(y_test, y_pred)\n"
   ]
  },
  {
   "cell_type": "code",
   "execution_count": 11,
   "metadata": {
    "colab": {
     "base_uri": "https://localhost:8080/"
    },
    "executionInfo": {
     "elapsed": 3,
     "status": "ok",
     "timestamp": 1670833726589,
     "user": {
      "displayName": "Farhan Sayyed",
      "userId": "08467715344695792582"
     },
     "user_tz": -330
    },
    "id": "B28mFi5Vcsu8",
    "outputId": "5442efce-0cdc-4a0a-ff3b-9b4832c4bcd3"
   },
   "outputs": [
    {
     "data": {
      "text/plain": [
       "0.33746130030959753"
      ]
     },
     "execution_count": 11,
     "metadata": {},
     "output_type": "execute_result"
    }
   ],
   "source": [
    "accuracy"
   ]
  },
  {
   "cell_type": "code",
   "execution_count": 12,
   "metadata": {
    "colab": {
     "base_uri": "https://localhost:8080/",
     "height": 565
    },
    "executionInfo": {
     "elapsed": 1168,
     "status": "ok",
     "timestamp": 1670833870312,
     "user": {
      "displayName": "Farhan Sayyed",
      "userId": "08467715344695792582"
     },
     "user_tz": -330
    },
    "id": "fTHvJ1R7cx3L",
    "outputId": "8d921024-c261-48ae-8585-d0f8311909b9"
   },
   "outputs": [
    {
     "data": {
      "image/png": "[encoded data removed]",
      "text/plain": [
       "<Figure size 1000x800 with 2 Axes>"
      ]
     },
     "metadata": {},
     "output_type": "display_data"
    }
   ],
   "source": [
    "cm = confusion_matrix(y_test, y_pred)\n",
    "x=[1,2,3,4,5,6,7,8]\n",
    "labels = ['Two Wheeler', 'Auto rickshaw', 'Car/Jeep/Taxi', 'Bus','Truck/Lorry/Tractor', 'Bicycle', 'Others', 'Pedestrian']\n",
    "plt.figure(figsize=(10,8))\n",
    "sns.heatmap(cm, annot=True, cmap=\"Blues\")\n",
    "plt.xticks(x, labels, rotation = 90)\n",
    "plt.yticks(x, labels, rotation = 0)\n",
    "plt.show()"
   ]
  },
  {
   "cell_type": "code",
   "execution_count": null,
   "metadata": {
    "id": "CntKSZfzdYi2"
   },
   "outputs": [],
   "source": []
  }
 ],
 "metadata": {
  "colab": {
   "authorship_tag": "ABX9TyM3EtjO+JN2OVD5e3nsK27C",
   "provenance": []
  },
  "kernelspec": {
   "display_name": "Python 3 (ipykernel)",
   "language": "python",
   "name": "python3"
  },
  "language_info": {
   "codemirror_mode": {
    "name": "ipython",
    "version": 3
   },
   "file_extension": ".py",
   "mimetype": "text/x-python",
   "name": "python",
   "nbconvert_exporter": "python",
   "pygments_lexer": "ipython3",
   "version": "3.9.13"
  }
 },
 "nbformat": 4,
 "nbformat_minor": 1
}
