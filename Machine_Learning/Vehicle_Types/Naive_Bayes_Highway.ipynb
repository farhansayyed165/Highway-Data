{
 "cells": [
  {
   "cell_type": "code",
   "execution_count": 1,
   "metadata": {
    "executionInfo": {
     "elapsed": 2590,
     "status": "ok",
     "timestamp": 1670499316413,
     "user": {
      "displayName": "Farhan Sayyed",
      "userId": "08467715344695792582"
     },
     "user_tz": -330
    },
    "id": "Z6nA_X9Uf7rg"
   },
   "outputs": [],
   "source": [
    "from sklearn.metrics import accuracy_score, confusion_matrix, classification_report\n",
    "from sklearn.model_selection import train_test_split\n",
    "import pandas as pd\n",
    "import matplotlib.pyplot as plt\n",
    "import seaborn as sns\n",
    "import numpy as np\n",
    "from sklearn.naive_bayes import GaussianNB\n",
    "from sklearn.preprocessing import StandardScaler"
   ]
  },
  {
   "cell_type": "code",
   "execution_count": 22,
   "metadata": {
    "executionInfo": {
     "elapsed": 656,
     "status": "ok",
     "timestamp": 1670499335648,
     "user": {
      "displayName": "Farhan Sayyed",
      "userId": "08467715344695792582"
     },
     "user_tz": -330
    },
    "id": "A3xZIEBbM6cz"
   },
   "outputs": [],
   "source": [
    "df = pd.read_csv('https://raw.githubusercontent.com/farhansayyed165/Highway-Data/main/Data/Vehicles/Basic_CLassify.csv', index_col='Unnamed: 0')\n",
    "y = df.filter(like=\"vehicle\", axis=1)\n",
    "X = df.drop('vehicle', axis=1)\n",
    "X_train, X_test, y_train, y_test = train_test_split(X, y, test_size=0.3, random_state=42)\n",
    "d = pd.read_csv('https://raw.githubusercontent.com/farhansayyed165/Highway-Data/main/Data/Vehicles/Base_data.csv')"
   ]
  },
  {
   "cell_type": "code",
   "execution_count": 18,
   "metadata": {
    "colab": {
     "base_uri": "https://localhost:8080/"
    },
    "executionInfo": {
     "elapsed": 9,
     "status": "ok",
     "timestamp": 1670499338769,
     "user": {
      "displayName": "Farhan Sayyed",
      "userId": "08467715344695792582"
     },
     "user_tz": -330
    },
    "id": "V8tbbBeLNxEc",
    "outputId": "547e8861-9af2-4c1d-c8fe-1f7590fc9363"
   },
   "outputs": [
    {
     "data": {
      "text/html": [
       "<div>\n",
       "<style scoped>\n",
       "    .dataframe tbody tr th:only-of-type {\n",
       "        vertical-align: middle;\n",
       "    }\n",
       "\n",
       "    .dataframe tbody tr th {\n",
       "        vertical-align: top;\n",
       "    }\n",
       "\n",
       "    .dataframe thead th {\n",
       "        text-align: right;\n",
       "    }\n",
       "</style>\n",
       "<table border=\"1\" class=\"dataframe\">\n",
       "  <thead>\n",
       "    <tr style=\"text-align: right;\">\n",
       "      <th></th>\n",
       "      <th>states</th>\n",
       "      <th>accidents</th>\n",
       "      <th>killed</th>\n",
       "      <th>injured</th>\n",
       "      <th>year</th>\n",
       "    </tr>\n",
       "  </thead>\n",
       "  <tbody>\n",
       "    <tr>\n",
       "      <th>0</th>\n",
       "      <td>1</td>\n",
       "      <td>9409.0</td>\n",
       "      <td>2343.0</td>\n",
       "      <td>7712.0</td>\n",
       "      <td>2017.0</td>\n",
       "    </tr>\n",
       "    <tr>\n",
       "      <th>1</th>\n",
       "      <td>2</td>\n",
       "      <td>62.0</td>\n",
       "      <td>32.0</td>\n",
       "      <td>67.0</td>\n",
       "      <td>2017.0</td>\n",
       "    </tr>\n",
       "    <tr>\n",
       "      <th>2</th>\n",
       "      <td>3</td>\n",
       "      <td>2125.0</td>\n",
       "      <td>772.0</td>\n",
       "      <td>1567.0</td>\n",
       "      <td>2017.0</td>\n",
       "    </tr>\n",
       "    <tr>\n",
       "      <th>3</th>\n",
       "      <td>4</td>\n",
       "      <td>2035.0</td>\n",
       "      <td>1318.0</td>\n",
       "      <td>1219.0</td>\n",
       "      <td>2017.0</td>\n",
       "    </tr>\n",
       "    <tr>\n",
       "      <th>4</th>\n",
       "      <td>5</td>\n",
       "      <td>4696.0</td>\n",
       "      <td>1386.0</td>\n",
       "      <td>4012.0</td>\n",
       "      <td>2017.0</td>\n",
       "    </tr>\n",
       "    <tr>\n",
       "      <th>...</th>\n",
       "      <td>...</td>\n",
       "      <td>...</td>\n",
       "      <td>...</td>\n",
       "      <td>...</td>\n",
       "      <td>...</td>\n",
       "    </tr>\n",
       "    <tr>\n",
       "      <th>1075</th>\n",
       "      <td>32</td>\n",
       "      <td>5.0</td>\n",
       "      <td>3.0</td>\n",
       "      <td>3.0</td>\n",
       "      <td>2020.0</td>\n",
       "    </tr>\n",
       "    <tr>\n",
       "      <th>1076</th>\n",
       "      <td>33</td>\n",
       "      <td>0.0</td>\n",
       "      <td>0.0</td>\n",
       "      <td>0.0</td>\n",
       "      <td>2020.0</td>\n",
       "    </tr>\n",
       "    <tr>\n",
       "      <th>1077</th>\n",
       "      <td>34</td>\n",
       "      <td>259.0</td>\n",
       "      <td>120.0</td>\n",
       "      <td>234.0</td>\n",
       "      <td>2020.0</td>\n",
       "    </tr>\n",
       "    <tr>\n",
       "      <th>1078</th>\n",
       "      <td>35</td>\n",
       "      <td>0.0</td>\n",
       "      <td>0.0</td>\n",
       "      <td>0.0</td>\n",
       "      <td>2020.0</td>\n",
       "    </tr>\n",
       "    <tr>\n",
       "      <th>1079</th>\n",
       "      <td>36</td>\n",
       "      <td>0.0</td>\n",
       "      <td>0.0</td>\n",
       "      <td>0.0</td>\n",
       "      <td>2020.0</td>\n",
       "    </tr>\n",
       "  </tbody>\n",
       "</table>\n",
       "<p>1076 rows × 5 columns</p>\n",
       "</div>"
      ],
      "text/plain": [
       "      states  accidents  killed  injured    year\n",
       "0          1     9409.0  2343.0   7712.0  2017.0\n",
       "1          2       62.0    32.0     67.0  2017.0\n",
       "2          3     2125.0   772.0   1567.0  2017.0\n",
       "3          4     2035.0  1318.0   1219.0  2017.0\n",
       "4          5     4696.0  1386.0   4012.0  2017.0\n",
       "...      ...        ...     ...      ...     ...\n",
       "1075      32        5.0     3.0      3.0  2020.0\n",
       "1076      33        0.0     0.0      0.0  2020.0\n",
       "1077      34      259.0   120.0    234.0  2020.0\n",
       "1078      35        0.0     0.0      0.0  2020.0\n",
       "1079      36        0.0     0.0      0.0  2020.0\n",
       "\n",
       "[1076 rows x 5 columns]"
      ]
     },
     "execution_count": 18,
     "metadata": {},
     "output_type": "execute_result"
    }
   ],
   "source": [
    "# X_train, X_test, y_train, y_test = train_test_split(X, y, test_size=0.3, random_state=42)\n",
    "X_train.sha"
   ]
  },
  {
   "cell_type": "code",
   "execution_count": 23,
   "metadata": {},
   "outputs": [],
   "source": [
    "scaler= StandardScaler()\n",
    "X_train_scaled = scaler.fit_transform(X_train)\n",
    "X_test_scaled = scaler.transform(X_test)"
   ]
  },
  {
   "cell_type": "code",
   "execution_count": null,
   "metadata": {},
   "outputs": [],
   "source": []
  },
  {
   "cell_type": "code",
   "execution_count": 24,
   "metadata": {
    "colab": {
     "base_uri": "https://localhost:8080/"
    },
    "executionInfo": {
     "elapsed": 21,
     "status": "ok",
     "timestamp": 1670499485589,
     "user": {
      "displayName": "Farhan Sayyed",
      "userId": "08467715344695792582"
     },
     "user_tz": -330
    },
    "id": "-1uKPHkFhQOe",
    "outputId": "12c67e94-0d2d-4261-95d7-b01b371b0d36"
   },
   "outputs": [
    {
     "data": {
      "text/plain": [
       "GaussianNB()"
      ]
     },
     "execution_count": 24,
     "metadata": {},
     "output_type": "execute_result"
    }
   ],
   "source": [
    "cf = GaussianNB()\n",
    "cf.fit(X_train_scaled, y_train.values.ravel())"
   ]
  },
  {
   "cell_type": "code",
   "execution_count": 25,
   "metadata": {
    "executionInfo": {
     "elapsed": 27,
     "status": "ok",
     "timestamp": 1670499506900,
     "user": {
      "displayName": "Farhan Sayyed",
      "userId": "08467715344695792582"
     },
     "user_tz": -330
    },
    "id": "Vh2Xfzr5hwHO"
   },
   "outputs": [],
   "source": [
    "y_pred = cf.predict(X_test_scaled)"
   ]
  },
  {
   "cell_type": "code",
   "execution_count": null,
   "metadata": {
    "id": "yOznD7HSh5M2"
   },
   "outputs": [],
   "source": []
  },
  {
   "cell_type": "code",
   "execution_count": 26,
   "metadata": {
    "colab": {
     "base_uri": "https://localhost:8080/"
    },
    "executionInfo": {
     "elapsed": 412,
     "status": "ok",
     "timestamp": 1670499533999,
     "user": {
      "displayName": "Farhan Sayyed",
      "userId": "08467715344695792582"
     },
     "user_tz": -330
    },
    "id": "1oJ5rEyDSDrI",
    "outputId": "46bd18a2-bbdf-496a-f671-a552887eaee2"
   },
   "outputs": [
    {
     "data": {
      "text/plain": [
       "0.25077399380804954"
      ]
     },
     "execution_count": 26,
     "metadata": {},
     "output_type": "execute_result"
    }
   ],
   "source": [
    "accuracy_score(y_test, y_pred)"
   ]
  },
  {
   "cell_type": "code",
   "execution_count": 27,
   "metadata": {
    "executionInfo": {
     "elapsed": 13,
     "status": "ok",
     "timestamp": 1670499536465,
     "user": {
      "displayName": "Farhan Sayyed",
      "userId": "08467715344695792582"
     },
     "user_tz": -330
    },
    "id": "C8QhIWMvSJld"
   },
   "outputs": [],
   "source": [
    "cm = confusion_matrix(y_test, y_pred)"
   ]
  },
  {
   "cell_type": "code",
   "execution_count": 29,
   "metadata": {
    "colab": {
     "base_uri": "https://localhost:8080/",
     "height": 584
    },
    "executionInfo": {
     "elapsed": 1309,
     "status": "ok",
     "timestamp": 1670499539912,
     "user": {
      "displayName": "Farhan Sayyed",
      "userId": "08467715344695792582"
     },
     "user_tz": -330
    },
    "id": "G1Z3cGQcX_wp",
    "outputId": "8b2bf962-d775-4df8-b881-746ee6b3040e"
   },
   "outputs": [
    {
     "data": {
      "image/png": "[encoded data removed]",
      "text/plain": [
       "<Figure size 1000x800 with 2 Axes>"
      ]
     },
     "metadata": {},
     "output_type": "display_data"
    }
   ],
   "source": [
    "labels=d['Impacting Vehicle Type'].unique()\n",
    "x=[1,2,3,4,5,6,7,8]\n",
    "plt.figure(figsize=(10,8))\n",
    "sns.heatmap(cm, annot=True, cmap=\"Blues\")\n",
    "plt.xticks(x, labels, rotation = 90)\n",
    "plt.yticks(x, labels, rotation = 0)\n",
    "plt.show()"
   ]
  },
  {
   "cell_type": "code",
   "execution_count": 30,
   "metadata": {
    "colab": {
     "base_uri": "https://localhost:8080/"
    },
    "executionInfo": {
     "elapsed": 6,
     "status": "ok",
     "timestamp": 1670499541178,
     "user": {
      "displayName": "Farhan Sayyed",
      "userId": "08467715344695792582"
     },
     "user_tz": -330
    },
    "id": "ar6Zw6TtYEo1",
    "outputId": "6b74c848-a5e1-42b6-e01d-11351552a29d"
   },
   "outputs": [
    {
     "name": "stdout",
     "output_type": "stream",
     "text": [
      "              precision    recall  f1-score   support\n",
      "\n",
      "           1       0.50      0.28      0.36        39\n",
      "           2       0.25      0.11      0.15        55\n",
      "           3       0.71      0.10      0.18        50\n",
      "           4       0.38      0.07      0.11        45\n",
      "           5       0.11      0.09      0.10        35\n",
      "           6       0.22      0.91      0.36        46\n",
      "           7       0.21      0.22      0.22        36\n",
      "           8       0.38      0.18      0.24        17\n",
      "\n",
      "    accuracy                           0.25       323\n",
      "   macro avg       0.34      0.24      0.21       323\n",
      "weighted avg       0.35      0.25      0.21       323\n",
      "\n"
     ]
    }
   ],
   "source": [
    "print(classification_report(y_test, y_pred))"
   ]
  },
  {
   "cell_type": "code",
   "execution_count": null,
   "metadata": {
    "id": "yeJHQRaQiBmu"
   },
   "outputs": [],
   "source": []
  }
 ],
 "metadata": {
  "colab": {
   "authorship_tag": "ABX9TyMBMqM+Kj3tXACvRlQw0jVV",
   "provenance": []
  },
  "kernelspec": {
   "display_name": "Python 3 (ipykernel)",
   "language": "python",
   "name": "python3"
  },
  "language_info": {
   "codemirror_mode": {
    "name": "ipython",
    "version": 3
   },
   "file_extension": ".py",
   "mimetype": "text/x-python",
   "name": "python",
   "nbconvert_exporter": "python",
   "pygments_lexer": "ipython3",
   "version": "3.9.13"
  }
 },
 "nbformat": 4,
 "nbformat_minor": 1
}
