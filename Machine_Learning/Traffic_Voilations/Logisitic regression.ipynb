{
 "cells": [
  {
   "cell_type": "code",
   "execution_count": 31,
   "id": "72679f58",
   "metadata": {},
   "outputs": [],
   "source": [
    "from sklearn import metrics\n",
    "from sklearn.linear_model import LogisticRegression\n",
    "from sklearn.model_selection import train_test_split\n",
    "import matplotlib.pyplot as plt\n",
    "import pandas as pd\n",
    "import numpy as np\n",
    "import seaborn as sns\n",
    "from sklearn.metrics import roc_curve, auc, accuracy_score, confusion_matrix, classification_report\n",
    "from sklearn.preprocessing import StandardScaler"
   ]
  },
  {
   "cell_type": "code",
   "execution_count": 2,
   "id": "56d00f3b",
   "metadata": {},
   "outputs": [],
   "source": [
    "df = pd.read_csv(\"https://raw.githubusercontent.com/farhansayyed165/Highway-Data/main/Data/Traffic_Voilation/Traffic_Voilatio_mean.csv\")"
   ]
  },
  {
   "cell_type": "code",
   "execution_count": 17,
   "id": "de069ad9",
   "metadata": {},
   "outputs": [],
   "source": [
    "y = df.filter(like=\"voilation\", axis=1)\n",
    "X = df.drop(y, axis=1)"
   ]
  },
  {
   "cell_type": "code",
   "execution_count": 18,
   "id": "3df60e57",
   "metadata": {},
   "outputs": [
    {
     "data": {
      "text/plain": [
       "(502, 1)"
      ]
     },
     "execution_count": 18,
     "metadata": {},
     "output_type": "execute_result"
    }
   ],
   "source": [
    "X_train, X_test, y_train, y_test = train_test_split(X, y, test_size=0.3, random_state=42)\n",
    "y_train.shape"
   ]
  },
  {
   "cell_type": "code",
   "execution_count": 32,
   "id": "7723544c",
   "metadata": {},
   "outputs": [],
   "source": [
    "scaler = StandardScaler()\n",
    "X_train_scaled = scaler.fit_transform(X_train)\n",
    "X_test_scaled = scaler.transform(X_test)"
   ]
  },
  {
   "cell_type": "code",
   "execution_count": 36,
   "id": "7b8eec79",
   "metadata": {},
   "outputs": [],
   "source": [
    "def training(max_i, X_train, y_train, X_test, y_test):\n",
    "    solver = [\"lbfgs\",\"liblinear\",\"newton-cg\",\"newton-cholesky\",\"sag\",\"saga\"]\n",
    "    for s in solver:\n",
    "        clf = LogisticRegression(multi_class='multinomial', max_iter=max_i)\n",
    "        clf.fit(X_train, y_train.values.ravel())\n",
    "    \n",
    "    \n",
    "        y_pred = clf.predict(X_test)\n",
    "    \n",
    "#     auc_train = roc_auc_score(y_train, y_train_pred)\n",
    "#     auc_test = roc_auc_score(y_test, y_pred)\n",
    "        acc = accuracy_score(y_test,y_pred)\n",
    "        print(print\"{}, Iter: {}\")\n",
    "        print(\"Iter: {}, ACC: {}\".format(max_i,acc))\n",
    "    print(\"\\n\")"
   ]
  },
  {
   "cell_type": "code",
   "execution_count": 41,
   "id": "ee39abd8",
   "metadata": {},
   "outputs": [
    {
     "name": "stdout",
     "output_type": "stream",
     "text": [
      "lbfgs\n",
      "Iter: 50, ACC: 0.36574074074074076\n",
      "liblinear\n",
      "Iter: 50, ACC: 0.36574074074074076\n",
      "newton-cg\n",
      "Iter: 50, ACC: 0.36574074074074076\n",
      "newton-cholesky\n",
      "Iter: 50, ACC: 0.36574074074074076\n",
      "sag\n",
      "Iter: 50, ACC: 0.36574074074074076\n",
      "saga\n",
      "Iter: 50, ACC: 0.36574074074074076\n",
      "\n",
      "\n",
      "lbfgs\n",
      "Iter: 51, ACC: 0.36574074074074076\n",
      "liblinear\n",
      "Iter: 51, ACC: 0.36574074074074076\n",
      "newton-cg\n",
      "Iter: 51, ACC: 0.36574074074074076\n",
      "newton-cholesky\n",
      "Iter: 51, ACC: 0.36574074074074076\n",
      "sag\n",
      "Iter: 51, ACC: 0.36574074074074076\n",
      "saga\n",
      "Iter: 51, ACC: 0.36574074074074076\n",
      "\n",
      "\n",
      "lbfgs\n",
      "Iter: 52, ACC: 0.36574074074074076\n",
      "liblinear\n",
      "Iter: 52, ACC: 0.36574074074074076\n",
      "newton-cg\n",
      "Iter: 52, ACC: 0.36574074074074076\n",
      "newton-cholesky\n",
      "Iter: 52, ACC: 0.36574074074074076\n",
      "sag\n",
      "Iter: 52, ACC: 0.36574074074074076\n",
      "saga\n",
      "Iter: 52, ACC: 0.36574074074074076\n",
      "\n",
      "\n",
      "lbfgs\n",
      "Iter: 53, ACC: 0.36574074074074076\n",
      "liblinear\n",
      "Iter: 53, ACC: 0.36574074074074076\n",
      "newton-cg\n",
      "Iter: 53, ACC: 0.36574074074074076\n",
      "newton-cholesky\n",
      "Iter: 53, ACC: 0.36574074074074076\n",
      "sag\n",
      "Iter: 53, ACC: 0.36574074074074076\n",
      "saga\n",
      "Iter: 53, ACC: 0.36574074074074076\n",
      "\n",
      "\n",
      "lbfgs\n",
      "Iter: 54, ACC: 0.36574074074074076\n",
      "liblinear\n",
      "Iter: 54, ACC: 0.36574074074074076\n",
      "newton-cg\n",
      "Iter: 54, ACC: 0.36574074074074076\n",
      "newton-cholesky\n",
      "Iter: 54, ACC: 0.36574074074074076\n",
      "sag\n",
      "Iter: 54, ACC: 0.36574074074074076\n",
      "saga\n",
      "Iter: 54, ACC: 0.36574074074074076\n",
      "\n",
      "\n",
      "lbfgs\n",
      "Iter: 55, ACC: 0.36574074074074076\n",
      "liblinear\n",
      "Iter: 55, ACC: 0.36574074074074076\n",
      "newton-cg\n",
      "Iter: 55, ACC: 0.36574074074074076\n",
      "newton-cholesky\n",
      "Iter: 55, ACC: 0.36574074074074076\n",
      "sag\n",
      "Iter: 55, ACC: 0.36574074074074076\n",
      "saga\n",
      "Iter: 55, ACC: 0.36574074074074076\n",
      "\n",
      "\n",
      "lbfgs\n",
      "Iter: 56, ACC: 0.36574074074074076\n",
      "liblinear\n",
      "Iter: 56, ACC: 0.36574074074074076\n",
      "newton-cg\n",
      "Iter: 56, ACC: 0.36574074074074076\n",
      "newton-cholesky\n",
      "Iter: 56, ACC: 0.36574074074074076\n",
      "sag\n",
      "Iter: 56, ACC: 0.36574074074074076\n",
      "saga\n",
      "Iter: 56, ACC: 0.36574074074074076\n",
      "\n",
      "\n",
      "lbfgs\n",
      "Iter: 57, ACC: 0.36574074074074076\n",
      "liblinear\n",
      "Iter: 57, ACC: 0.36574074074074076\n",
      "newton-cg\n",
      "Iter: 57, ACC: 0.36574074074074076\n",
      "newton-cholesky\n",
      "Iter: 57, ACC: 0.36574074074074076\n",
      "sag\n",
      "Iter: 57, ACC: 0.36574074074074076\n",
      "saga\n",
      "Iter: 57, ACC: 0.36574074074074076\n",
      "\n",
      "\n",
      "lbfgs\n",
      "Iter: 58, ACC: 0.36574074074074076\n",
      "liblinear\n",
      "Iter: 58, ACC: 0.36574074074074076\n",
      "newton-cg\n",
      "Iter: 58, ACC: 0.36574074074074076\n",
      "newton-cholesky\n",
      "Iter: 58, ACC: 0.36574074074074076\n",
      "sag\n",
      "Iter: 58, ACC: 0.36574074074074076\n",
      "saga\n",
      "Iter: 58, ACC: 0.36574074074074076\n",
      "\n",
      "\n",
      "lbfgs\n",
      "Iter: 59, ACC: 0.36574074074074076\n",
      "liblinear\n",
      "Iter: 59, ACC: 0.36574074074074076\n",
      "newton-cg\n",
      "Iter: 59, ACC: 0.36574074074074076\n",
      "newton-cholesky\n",
      "Iter: 59, ACC: 0.36574074074074076\n",
      "sag\n",
      "Iter: 59, ACC: 0.36574074074074076\n",
      "saga\n",
      "Iter: 59, ACC: 0.36574074074074076\n",
      "\n",
      "\n"
     ]
    }
   ],
   "source": [
    "for i in range(50,60):\n",
    "    training(i, X_train_scaled, y_train, X_test_scaled, y_test)"
   ]
  },
  {
   "cell_type": "code",
   "execution_count": 43,
   "id": "df5239f2",
   "metadata": {},
   "outputs": [
    {
     "data": {
      "text/plain": [
       "LogisticRegression(max_iter=56, multi_class='multinomial')"
      ]
     },
     "execution_count": 43,
     "metadata": {},
     "output_type": "execute_result"
    }
   ],
   "source": [
    "clf = LogisticRegression(multi_class='multinomial', max_iter=56)\n",
    "clf.fit(X_train_scaled, y_train.values.ravel())\n"
   ]
  },
  {
   "cell_type": "code",
   "execution_count": 44,
   "id": "f6395880",
   "metadata": {},
   "outputs": [],
   "source": [
    "y_pred = clf.predict(X_test_scaled)"
   ]
  },
  {
   "cell_type": "code",
   "execution_count": 45,
   "id": "f501cf7a",
   "metadata": {},
   "outputs": [
    {
     "name": "stdout",
     "output_type": "stream",
     "text": [
      "              precision    recall  f1-score   support\n",
      "\n",
      "           1       0.90      0.43      0.58        44\n",
      "           2       0.50      0.02      0.04        46\n",
      "           3       0.39      0.54      0.45        41\n",
      "           4       0.26      0.90      0.41        39\n",
      "           5       0.67      0.04      0.08        46\n",
      "\n",
      "    accuracy                           0.37       216\n",
      "   macro avg       0.54      0.39      0.31       216\n",
      "weighted avg       0.55      0.37      0.30       216\n",
      "\n"
     ]
    }
   ],
   "source": [
    "print(classification_report(y_test, y_pred))"
   ]
  },
  {
   "cell_type": "code",
   "execution_count": 46,
   "id": "bc42d112",
   "metadata": {},
   "outputs": [
    {
     "data": {
      "text/plain": [
       "array([[19,  0, 12, 13,  0],\n",
       "       [ 1,  1, 11, 33,  0],\n",
       "       [ 0,  1, 22, 17,  1],\n",
       "       [ 0,  0,  4, 35,  0],\n",
       "       [ 1,  0,  8, 35,  2]], dtype=int64)"
      ]
     },
     "execution_count": 46,
     "metadata": {},
     "output_type": "execute_result"
    }
   ],
   "source": [
    "cm = confusion_matrix(y_test, y_pred)\n",
    "cm"
   ]
  },
  {
   "cell_type": "code",
   "execution_count": 47,
   "id": "c7b47aca",
   "metadata": {},
   "outputs": [
    {
     "data": {
      "image/png": "[encoded data removed]",
      "text/plain": [
       "<Figure size 800x800 with 2 Axes>"
      ]
     },
     "metadata": {},
     "output_type": "display_data"
    }
   ],
   "source": [
    "labels=['OverSpeeding','Drunken Driving','Driving On wrong side','Jumping red Lights','Use of Mobile Phones']\n",
    "x=[1,2,3,4,5]\n",
    "plt.figure(figsize=(8,8))\n",
    "sns.heatmap(cm, annot=True, cmap=\"Blues\")\n",
    "plt.xticks(x, labels, rotation = 90)\n",
    "plt.yticks(x, labels, rotation = 0)\n",
    "plt.show()"
   ]
  },
  {
   "cell_type": "code",
   "execution_count": 48,
   "id": "04740b6e",
   "metadata": {},
   "outputs": [
    {
     "data": {
      "text/plain": [
       "0.36574074074074076"
      ]
     },
     "execution_count": 48,
     "metadata": {},
     "output_type": "execute_result"
    }
   ],
   "source": [
    "accuracy_score(y_test,y_pred)"
   ]
  },
  {
   "cell_type": "markdown",
   "id": "57b0a40c",
   "metadata": {},
   "source": [
    "## 2 mean dataset"
   ]
  },
  {
   "cell_type": "code",
   "execution_count": 62,
   "id": "d43f6d8f",
   "metadata": {},
   "outputs": [],
   "source": [
    "df = pd.read_csv(\"https://raw.githubusercontent.com/farhansayyed165/Highway-Data/main/Data/Traffic_Voilation/3mean_data.csv\")\n"
   ]
  },
  {
   "cell_type": "code",
   "execution_count": 63,
   "id": "3de04c88",
   "metadata": {},
   "outputs": [],
   "source": [
    "y = df.filter(like=\"voilation\", axis=1)\n",
    "X = df.drop(y, axis=1)"
   ]
  },
  {
   "cell_type": "code",
   "execution_count": 64,
   "id": "ea1d8860",
   "metadata": {},
   "outputs": [
    {
     "data": {
      "text/plain": [
       "(502, 1)"
      ]
     },
     "execution_count": 64,
     "metadata": {},
     "output_type": "execute_result"
    }
   ],
   "source": [
    "X_train, X_test, y_train, y_test = train_test_split(X, y, test_size=0.3, random_state=42)\n",
    "y_train.shape"
   ]
  },
  {
   "cell_type": "code",
   "execution_count": 65,
   "id": "fd9eca54",
   "metadata": {},
   "outputs": [],
   "source": [
    "scaler = StandardScaler()\n",
    "X_train_scaled = scaler.fit_transform(X_train)\n",
    "X_test_scaled = scaler.transform(X_test)"
   ]
  },
  {
   "cell_type": "code",
   "execution_count": 66,
   "id": "7bb1b363",
   "metadata": {},
   "outputs": [
    {
     "name": "stdout",
     "output_type": "stream",
     "text": [
      "lbfgs\n",
      "Iter: 90, ACC: 0.36574074074074076\n",
      "liblinear\n",
      "Iter: 90, ACC: 0.36574074074074076\n",
      "newton-cg\n",
      "Iter: 90, ACC: 0.36574074074074076\n",
      "newton-cholesky\n",
      "Iter: 90, ACC: 0.36574074074074076\n",
      "sag\n",
      "Iter: 90, ACC: 0.36574074074074076\n",
      "saga\n",
      "Iter: 90, ACC: 0.36574074074074076\n",
      "\n",
      "\n",
      "lbfgs\n",
      "Iter: 91, ACC: 0.36574074074074076\n",
      "liblinear\n",
      "Iter: 91, ACC: 0.36574074074074076\n",
      "newton-cg\n",
      "Iter: 91, ACC: 0.36574074074074076\n",
      "newton-cholesky\n",
      "Iter: 91, ACC: 0.36574074074074076\n",
      "sag\n",
      "Iter: 91, ACC: 0.36574074074074076\n",
      "saga\n",
      "Iter: 91, ACC: 0.36574074074074076\n",
      "\n",
      "\n",
      "lbfgs\n",
      "Iter: 92, ACC: 0.36574074074074076\n",
      "liblinear\n",
      "Iter: 92, ACC: 0.36574074074074076\n",
      "newton-cg\n",
      "Iter: 92, ACC: 0.36574074074074076\n",
      "newton-cholesky\n",
      "Iter: 92, ACC: 0.36574074074074076\n",
      "sag\n",
      "Iter: 92, ACC: 0.36574074074074076\n",
      "saga\n",
      "Iter: 92, ACC: 0.36574074074074076\n",
      "\n",
      "\n",
      "lbfgs\n",
      "Iter: 93, ACC: 0.36574074074074076\n",
      "liblinear\n",
      "Iter: 93, ACC: 0.36574074074074076\n",
      "newton-cg\n",
      "Iter: 93, ACC: 0.36574074074074076\n",
      "newton-cholesky\n",
      "Iter: 93, ACC: 0.36574074074074076\n",
      "sag\n",
      "Iter: 93, ACC: 0.36574074074074076\n",
      "saga\n",
      "Iter: 93, ACC: 0.36574074074074076\n",
      "\n",
      "\n",
      "lbfgs\n",
      "Iter: 94, ACC: 0.36574074074074076\n",
      "liblinear\n",
      "Iter: 94, ACC: 0.36574074074074076\n",
      "newton-cg\n",
      "Iter: 94, ACC: 0.36574074074074076\n",
      "newton-cholesky\n",
      "Iter: 94, ACC: 0.36574074074074076\n",
      "sag\n",
      "Iter: 94, ACC: 0.36574074074074076\n",
      "saga\n",
      "Iter: 94, ACC: 0.36574074074074076\n",
      "\n",
      "\n",
      "lbfgs\n",
      "Iter: 95, ACC: 0.36574074074074076\n",
      "liblinear\n",
      "Iter: 95, ACC: 0.36574074074074076\n",
      "newton-cg\n",
      "Iter: 95, ACC: 0.36574074074074076\n",
      "newton-cholesky\n",
      "Iter: 95, ACC: 0.36574074074074076\n",
      "sag\n",
      "Iter: 95, ACC: 0.36574074074074076\n",
      "saga\n",
      "Iter: 95, ACC: 0.36574074074074076\n",
      "\n",
      "\n",
      "lbfgs\n",
      "Iter: 96, ACC: 0.36574074074074076\n",
      "liblinear\n",
      "Iter: 96, ACC: 0.36574074074074076\n",
      "newton-cg\n",
      "Iter: 96, ACC: 0.36574074074074076\n",
      "newton-cholesky\n",
      "Iter: 96, ACC: 0.36574074074074076\n",
      "sag\n",
      "Iter: 96, ACC: 0.36574074074074076\n",
      "saga\n",
      "Iter: 96, ACC: 0.36574074074074076\n",
      "\n",
      "\n",
      "lbfgs\n",
      "Iter: 97, ACC: 0.36574074074074076\n",
      "liblinear\n",
      "Iter: 97, ACC: 0.36574074074074076\n",
      "newton-cg\n",
      "Iter: 97, ACC: 0.36574074074074076\n",
      "newton-cholesky\n",
      "Iter: 97, ACC: 0.36574074074074076\n",
      "sag\n",
      "Iter: 97, ACC: 0.36574074074074076\n",
      "saga\n",
      "Iter: 97, ACC: 0.36574074074074076\n",
      "\n",
      "\n",
      "lbfgs\n",
      "Iter: 98, ACC: 0.36574074074074076\n",
      "liblinear\n",
      "Iter: 98, ACC: 0.36574074074074076\n",
      "newton-cg\n",
      "Iter: 98, ACC: 0.36574074074074076\n",
      "newton-cholesky\n",
      "Iter: 98, ACC: 0.36574074074074076\n",
      "sag\n",
      "Iter: 98, ACC: 0.36574074074074076\n",
      "saga\n",
      "Iter: 98, ACC: 0.36574074074074076\n",
      "\n",
      "\n",
      "lbfgs\n",
      "Iter: 99, ACC: 0.36574074074074076\n",
      "liblinear\n",
      "Iter: 99, ACC: 0.36574074074074076\n",
      "newton-cg\n",
      "Iter: 99, ACC: 0.36574074074074076\n",
      "newton-cholesky\n",
      "Iter: 99, ACC: 0.36574074074074076\n",
      "sag\n",
      "Iter: 99, ACC: 0.36574074074074076\n",
      "saga\n",
      "Iter: 99, ACC: 0.36574074074074076\n",
      "\n",
      "\n",
      "lbfgs\n",
      "Iter: 100, ACC: 0.36574074074074076\n",
      "liblinear\n",
      "Iter: 100, ACC: 0.36574074074074076\n",
      "newton-cg\n",
      "Iter: 100, ACC: 0.36574074074074076\n",
      "newton-cholesky\n",
      "Iter: 100, ACC: 0.36574074074074076\n",
      "sag\n",
      "Iter: 100, ACC: 0.36574074074074076\n",
      "saga\n",
      "Iter: 100, ACC: 0.36574074074074076\n",
      "\n",
      "\n"
     ]
    }
   ],
   "source": [
    "for i in range(90,101):\n",
    "    training(i, X_train_scaled, y_train, X_test_scaled, y_test)"
   ]
  },
  {
   "cell_type": "code",
   "execution_count": 67,
   "id": "2b2ec1f1",
   "metadata": {},
   "outputs": [
    {
     "data": {
      "text/plain": [
       "LogisticRegression(multi_class='multinomial')"
      ]
     },
     "execution_count": 67,
     "metadata": {},
     "output_type": "execute_result"
    }
   ],
   "source": [
    "clf = LogisticRegression(multi_class='multinomial')\n",
    "clf.fit(X_train_scaled, y_train.values.ravel())"
   ]
  },
  {
   "cell_type": "code",
   "execution_count": 68,
   "id": "a09485c2",
   "metadata": {},
   "outputs": [
    {
     "data": {
      "text/plain": [
       "0.36574074074074076"
      ]
     },
     "execution_count": 68,
     "metadata": {},
     "output_type": "execute_result"
    }
   ],
   "source": [
    "y_pred = clf.predict(X_test_scaled)\n",
    "accuracy_score(y_test,y_pred)"
   ]
  },
  {
   "cell_type": "code",
   "execution_count": 69,
   "id": "03b02631",
   "metadata": {},
   "outputs": [
    {
     "data": {
      "text/plain": [
       "array([[19,  0, 12, 13,  0],\n",
       "       [ 1,  1, 11, 33,  0],\n",
       "       [ 0,  1, 22, 17,  1],\n",
       "       [ 0,  0,  4, 35,  0],\n",
       "       [ 1,  0,  8, 35,  2]], dtype=int64)"
      ]
     },
     "execution_count": 69,
     "metadata": {},
     "output_type": "execute_result"
    }
   ],
   "source": [
    "cm = confusion_matrix(y_test, y_pred)\n",
    "cm"
   ]
  },
  {
   "cell_type": "code",
   "execution_count": 70,
   "id": "b1da4c4b",
   "metadata": {},
   "outputs": [
    {
     "data": {
      "image/png": "[encoded data removed]",
      "text/plain": [
       "<Figure size 640x480 with 2 Axes>"
      ]
     },
     "metadata": {},
     "output_type": "display_data"
    }
   ],
   "source": [
    "labels=['OverSpeeding','Drunken Driving','Driving On wrong side','Jumping red Lights','Use of Mobile Phones']\n",
    "x=[1,2,3,4,5]\n",
    "# plt.figure(figsize=(10,8))\n",
    "sns.heatmap(cm, annot=True, cmap=\"Blues\")\n",
    "plt.xticks(x, labels, rotation = 90)\n",
    "plt.yticks(x, labels, rotation = 0)\n",
    "plt.show()"
   ]
  },
  {
   "cell_type": "code",
   "execution_count": null,
   "id": "ba9ebf22",
   "metadata": {},
   "outputs": [],
   "source": []
  }
 ],
 "metadata": {
  "kernelspec": {
   "display_name": "Python 3 (ipykernel)",
   "language": "python",
   "name": "python3"
  },
  "language_info": {
   "codemirror_mode": {
    "name": "ipython",
    "version": 3
   },
   "file_extension": ".py",
   "mimetype": "text/x-python",
   "name": "python",
   "nbconvert_exporter": "python",
   "pygments_lexer": "ipython3",
   "version": "3.9.13"
  }
 },
 "nbformat": 4,
 "nbformat_minor": 5
}
