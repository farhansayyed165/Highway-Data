{
 "cells": [
  {
   "cell_type": "code",
   "execution_count": 1,
   "metadata": {
    "executionInfo": {
     "elapsed": 2436,
     "status": "ok",
     "timestamp": 1670776929140,
     "user": {
      "displayName": "Farhan Sayyed",
      "userId": "08467715344695792582"
     },
     "user_tz": -330
    },
    "id": "whr4pkI9Kocm"
   },
   "outputs": [],
   "source": [
    "from sklearn.metrics import roc_curve, auc, accuracy_score, confusion_matrix, classification_report\n",
    "from sklearn.model_selection import train_test_split\n",
    "import pandas as pd\n",
    "import matplotlib.pyplot as plt\n",
    "import seaborn as sns\n",
    "import numpy as np\n",
    "from sklearn.ensemble import RandomForestClassifier\n",
    "from sklearn.preprocessing import StandardScaler"
   ]
  },
  {
   "cell_type": "code",
   "execution_count": 19,
   "metadata": {
    "id": "A3xZIEBbM6cz"
   },
   "outputs": [],
   "source": [
    "df = pd.read_csv('https://raw.githubusercontent.com/farhansayyed165/Highway-Data/main/Data/Traffic_Voilation/Traffic_Voilatio_mean.csv', index_col='Unnamed: 0')\n",
    "\n",
    "y = df.filter(like=\"voilation\", axis=1)\n",
    "X = df.drop('voilation', axis=1)\n",
    "X_train, X_test, y_train, y_test = train_test_split(X, y, test_size=0.3, random_state=42)"
   ]
  },
  {
   "cell_type": "code",
   "execution_count": 4,
   "metadata": {
    "id": "Pzp-eYtAN0M_"
   },
   "outputs": [],
   "source": [
    "def forest_training(X_train, X_test, y_train, y_test, estimators):\n",
    "    cf = RandomForestClassifier(n_estimators=estimators,bootstrap=True )\n",
    "    cf.fit(X_train, y_train.values.ravel())\n",
    "\n",
    "    y_train_pred = cf.predict(X_train)\n",
    "    y_pred = cf.predict(X_test)\n",
    "\n",
    "    accuracy = accuracy_score(y_test, y_pred)\n",
    "    \n",
    "    print(\"Node: {}, Acc: {}\".format(estimators, accuracy))\n",
    "    print(\"---------------------------------\")"
   ]
  },
  {
   "cell_type": "code",
   "execution_count": 26,
   "metadata": {
    "id": "AFd5ikXYQA5h"
   },
   "outputs": [
    {
     "name": "stdout",
     "output_type": "stream",
     "text": [
      "Node: 20, Acc: 0.35185185185185186\n",
      "---------------------------------\n",
      "Node: 21, Acc: 0.3287037037037037\n",
      "---------------------------------\n",
      "Node: 22, Acc: 0.32407407407407407\n",
      "---------------------------------\n",
      "Node: 23, Acc: 0.3333333333333333\n",
      "---------------------------------\n",
      "Node: 24, Acc: 0.35185185185185186\n",
      "---------------------------------\n",
      "Node: 25, Acc: 0.3148148148148148\n",
      "---------------------------------\n",
      "Node: 26, Acc: 0.33796296296296297\n",
      "---------------------------------\n",
      "Node: 27, Acc: 0.3194444444444444\n",
      "---------------------------------\n",
      "Node: 28, Acc: 0.3472222222222222\n",
      "---------------------------------\n",
      "Node: 29, Acc: 0.3611111111111111\n",
      "---------------------------------\n",
      "Node: 30, Acc: 0.3425925925925926\n",
      "---------------------------------\n",
      "Node: 31, Acc: 0.3472222222222222\n",
      "---------------------------------\n",
      "Node: 32, Acc: 0.33796296296296297\n",
      "---------------------------------\n",
      "Node: 33, Acc: 0.3287037037037037\n",
      "---------------------------------\n",
      "Node: 34, Acc: 0.33796296296296297\n",
      "---------------------------------\n",
      "Node: 35, Acc: 0.3425925925925926\n",
      "---------------------------------\n",
      "Node: 36, Acc: 0.3611111111111111\n",
      "---------------------------------\n",
      "Node: 37, Acc: 0.3287037037037037\n",
      "---------------------------------\n",
      "Node: 38, Acc: 0.33796296296296297\n",
      "---------------------------------\n",
      "Node: 39, Acc: 0.32407407407407407\n",
      "---------------------------------\n",
      "Node: 40, Acc: 0.35185185185185186\n",
      "---------------------------------\n",
      "Node: 41, Acc: 0.33796296296296297\n",
      "---------------------------------\n",
      "Node: 42, Acc: 0.3287037037037037\n",
      "---------------------------------\n",
      "Node: 43, Acc: 0.32407407407407407\n",
      "---------------------------------\n",
      "Node: 44, Acc: 0.3287037037037037\n",
      "---------------------------------\n",
      "Node: 45, Acc: 0.37037037037037035\n",
      "---------------------------------\n",
      "Node: 46, Acc: 0.3333333333333333\n",
      "---------------------------------\n",
      "Node: 47, Acc: 0.35185185185185186\n",
      "---------------------------------\n",
      "Node: 48, Acc: 0.3472222222222222\n",
      "---------------------------------\n",
      "Node: 49, Acc: 0.33796296296296297\n",
      "---------------------------------\n",
      "Node: 50, Acc: 0.3425925925925926\n",
      "---------------------------------\n",
      "Node: 51, Acc: 0.3333333333333333\n",
      "---------------------------------\n",
      "Node: 52, Acc: 0.3425925925925926\n",
      "---------------------------------\n",
      "Node: 53, Acc: 0.35185185185185186\n",
      "---------------------------------\n",
      "Node: 54, Acc: 0.33796296296296297\n",
      "---------------------------------\n",
      "Node: 55, Acc: 0.3333333333333333\n",
      "---------------------------------\n",
      "Node: 56, Acc: 0.3472222222222222\n",
      "---------------------------------\n",
      "Node: 57, Acc: 0.3287037037037037\n",
      "---------------------------------\n",
      "Node: 58, Acc: 0.33796296296296297\n",
      "---------------------------------\n",
      "Node: 59, Acc: 0.3425925925925926\n",
      "---------------------------------\n",
      "Node: 60, Acc: 0.3101851851851852\n",
      "---------------------------------\n",
      "Node: 61, Acc: 0.37037037037037035\n",
      "---------------------------------\n",
      "Node: 62, Acc: 0.32407407407407407\n",
      "---------------------------------\n",
      "Node: 63, Acc: 0.33796296296296297\n",
      "---------------------------------\n",
      "Node: 64, Acc: 0.36574074074074076\n",
      "---------------------------------\n",
      "Node: 65, Acc: 0.3425925925925926\n",
      "---------------------------------\n",
      "Node: 66, Acc: 0.3194444444444444\n",
      "---------------------------------\n",
      "Node: 67, Acc: 0.3333333333333333\n",
      "---------------------------------\n",
      "Node: 68, Acc: 0.3148148148148148\n",
      "---------------------------------\n",
      "Node: 69, Acc: 0.35648148148148145\n",
      "---------------------------------\n",
      "Node: 70, Acc: 0.33796296296296297\n",
      "---------------------------------\n",
      "Node: 71, Acc: 0.3333333333333333\n",
      "---------------------------------\n",
      "Node: 72, Acc: 0.32407407407407407\n",
      "---------------------------------\n",
      "Node: 73, Acc: 0.3472222222222222\n",
      "---------------------------------\n",
      "Node: 74, Acc: 0.37037037037037035\n",
      "---------------------------------\n",
      "Node: 75, Acc: 0.3472222222222222\n",
      "---------------------------------\n",
      "Node: 76, Acc: 0.35185185185185186\n",
      "---------------------------------\n",
      "Node: 77, Acc: 0.3425925925925926\n",
      "---------------------------------\n",
      "Node: 78, Acc: 0.3472222222222222\n",
      "---------------------------------\n",
      "Node: 79, Acc: 0.3472222222222222\n",
      "---------------------------------\n",
      "Node: 80, Acc: 0.3472222222222222\n",
      "---------------------------------\n",
      "Node: 81, Acc: 0.3472222222222222\n",
      "---------------------------------\n",
      "Node: 82, Acc: 0.35185185185185186\n",
      "---------------------------------\n",
      "Node: 83, Acc: 0.33796296296296297\n",
      "---------------------------------\n",
      "Node: 84, Acc: 0.36574074074074076\n",
      "---------------------------------\n",
      "Node: 85, Acc: 0.35185185185185186\n",
      "---------------------------------\n",
      "Node: 86, Acc: 0.33796296296296297\n",
      "---------------------------------\n",
      "Node: 87, Acc: 0.36574074074074076\n",
      "---------------------------------\n",
      "Node: 88, Acc: 0.32407407407407407\n",
      "---------------------------------\n",
      "Node: 89, Acc: 0.33796296296296297\n",
      "---------------------------------\n",
      "Node: 90, Acc: 0.3287037037037037\n",
      "---------------------------------\n",
      "Node: 91, Acc: 0.35185185185185186\n",
      "---------------------------------\n",
      "Node: 92, Acc: 0.35648148148148145\n",
      "---------------------------------\n",
      "Node: 93, Acc: 0.35648148148148145\n",
      "---------------------------------\n",
      "Node: 94, Acc: 0.35648148148148145\n",
      "---------------------------------\n",
      "Node: 95, Acc: 0.3425925925925926\n",
      "---------------------------------\n",
      "Node: 96, Acc: 0.36574074074074076\n",
      "---------------------------------\n",
      "Node: 97, Acc: 0.3472222222222222\n",
      "---------------------------------\n",
      "Node: 98, Acc: 0.33796296296296297\n",
      "---------------------------------\n",
      "Node: 99, Acc: 0.3472222222222222\n",
      "---------------------------------\n"
     ]
    }
   ],
   "source": [
    "for i in range(20,100):\n",
    "  forest_training(X_train, X_test, y_train, y_test, i)"
   ]
  },
  {
   "cell_type": "code",
   "execution_count": 40,
   "metadata": {
    "colab": {
     "base_uri": "https://localhost:8080/"
    },
    "executionInfo": {
     "elapsed": 408,
     "status": "ok",
     "timestamp": 1670692561672,
     "user": {
      "displayName": "Farhan Sayyed",
      "userId": "08467715344695792582"
     },
     "user_tz": -330
    },
    "id": "Zluu4PbrQNWa",
    "outputId": "76952335-d602-4bb8-96f3-e4c61342a906"
   },
   "outputs": [
    {
     "data": {
      "text/plain": [
       "RandomForestClassifier()"
      ]
     },
     "execution_count": 40,
     "metadata": {},
     "output_type": "execute_result"
    }
   ],
   "source": [
    "forest = RandomForestClassifier(n_estimators=100)\n",
    "forest.fit(X_train,y_train.values.ravel())"
   ]
  },
  {
   "cell_type": "code",
   "execution_count": 41,
   "metadata": {
    "id": "VTnMsXABRqX9"
   },
   "outputs": [],
   "source": [
    "y_pred = forest.predict(X_test)"
   ]
  },
  {
   "cell_type": "code",
   "execution_count": 42,
   "metadata": {
    "colab": {
     "base_uri": "https://localhost:8080/"
    },
    "executionInfo": {
     "elapsed": 4,
     "status": "ok",
     "timestamp": 1670692564463,
     "user": {
      "displayName": "Farhan Sayyed",
      "userId": "08467715344695792582"
     },
     "user_tz": -330
    },
    "id": "1oJ5rEyDSDrI",
    "outputId": "199d0faf-9cf4-43a9-9df0-b905c3009c15"
   },
   "outputs": [
    {
     "data": {
      "text/plain": [
       "0.35648148148148145"
      ]
     },
     "execution_count": 42,
     "metadata": {},
     "output_type": "execute_result"
    }
   ],
   "source": [
    "accuracy_score(y_test, y_pred)"
   ]
  },
  {
   "cell_type": "code",
   "execution_count": 43,
   "metadata": {
    "id": "C8QhIWMvSJld"
   },
   "outputs": [],
   "source": [
    "cm = confusion_matrix(y_test, y_pred)"
   ]
  },
  {
   "cell_type": "code",
   "execution_count": 46,
   "metadata": {
    "colab": {
     "base_uri": "https://localhost:8080/",
     "height": 584
    },
    "executionInfo": {
     "elapsed": 763,
     "status": "ok",
     "timestamp": 1670692569237,
     "user": {
      "displayName": "Farhan Sayyed",
      "userId": "08467715344695792582"
     },
     "user_tz": -330
    },
    "id": "G1Z3cGQcX_wp",
    "outputId": "cd3a3b75-33e5-4036-adf2-3e2c51bdbbec"
   },
   "outputs": [
    {
     "data": {
      "image/png": "[encoded data removed]",
      "text/plain": [
       "<Figure size 800x500 with 2 Axes>"
      ]
     },
     "metadata": {},
     "output_type": "display_data"
    }
   ],
   "source": [
    "labels=['OverSpeeding','Drunken Driving','Driving On wrong side','Jumping red Lights','Use of Mobile Phones']\n",
    "x=[1,2,3,4,5]\n",
    "plt.figure(figsize=(8,5))\n",
    "sns.heatmap(cm, annot=True, cmap=\"Blues\")\n",
    "plt.xticks(x, labels, rotation = 90)\n",
    "plt.yticks(x, labels, rotation = 0)\n",
    "plt.show()"
   ]
  },
  {
   "cell_type": "code",
   "execution_count": 47,
   "metadata": {
    "colab": {
     "base_uri": "https://localhost:8080/"
    },
    "executionInfo": {
     "elapsed": 661,
     "status": "ok",
     "timestamp": 1670497002427,
     "user": {
      "displayName": "Farhan Sayyed",
      "userId": "08467715344695792582"
     },
     "user_tz": -330
    },
    "id": "ar6Zw6TtYEo1",
    "outputId": "b8d61ec0-c290-4f88-e891-e4b2c5c18236"
   },
   "outputs": [
    {
     "name": "stdout",
     "output_type": "stream",
     "text": [
      "              precision    recall  f1-score   support\n",
      "\n",
      "           1       0.62      0.64      0.63        44\n",
      "           2       0.39      0.39      0.39        46\n",
      "           3       0.32      0.39      0.35        41\n",
      "           4       0.24      0.26      0.25        39\n",
      "           5       0.15      0.11      0.13        46\n",
      "\n",
      "    accuracy                           0.36       216\n",
      "   macro avg       0.34      0.36      0.35       216\n",
      "weighted avg       0.35      0.36      0.35       216\n",
      "\n"
     ]
    }
   ],
   "source": [
    "print(classification_report(y_test, y_pred))"
   ]
  },
  {
   "cell_type": "code",
   "execution_count": 52,
   "metadata": {
    "id": "UjksS0Gvx5co"
   },
   "outputs": [],
   "source": [
    "df = pd.read_csv('https://raw.githubusercontent.com/farhansayyed165/Highway-Data/main/Data/Traffic_Voilation/3mean_data.csv')\n",
    "\n",
    "y = df.filter(like=\"voilation\", axis=1)\n",
    "X = df.drop('voilation', axis=1)\n",
    "X_train, X_test, y_train, y_test = train_test_split(X, y, test_size=0.3, random_state=42)"
   ]
  },
  {
   "cell_type": "code",
   "execution_count": 54,
   "metadata": {
    "id": "lM7lILV8yHPl"
   },
   "outputs": [
    {
     "name": "stdout",
     "output_type": "stream",
     "text": [
      "Node: 70, Acc: 0.39814814814814814\n",
      "---------------------------------\n",
      "Node: 71, Acc: 0.39814814814814814\n",
      "---------------------------------\n",
      "Node: 72, Acc: 0.37962962962962965\n",
      "---------------------------------\n",
      "Node: 73, Acc: 0.38425925925925924\n",
      "---------------------------------\n",
      "Node: 74, Acc: 0.37962962962962965\n",
      "---------------------------------\n",
      "Node: 75, Acc: 0.37962962962962965\n",
      "---------------------------------\n",
      "Node: 76, Acc: 0.4074074074074074\n",
      "---------------------------------\n",
      "Node: 77, Acc: 0.4027777777777778\n",
      "---------------------------------\n",
      "Node: 78, Acc: 0.39351851851851855\n",
      "---------------------------------\n",
      "Node: 79, Acc: 0.37037037037037035\n",
      "---------------------------------\n",
      "Node: 80, Acc: 0.3888888888888889\n",
      "---------------------------------\n",
      "Node: 81, Acc: 0.375\n",
      "---------------------------------\n",
      "Node: 82, Acc: 0.39351851851851855\n",
      "---------------------------------\n",
      "Node: 83, Acc: 0.37962962962962965\n",
      "---------------------------------\n",
      "Node: 84, Acc: 0.39351851851851855\n",
      "---------------------------------\n",
      "Node: 85, Acc: 0.38425925925925924\n",
      "---------------------------------\n",
      "Node: 86, Acc: 0.39351851851851855\n",
      "---------------------------------\n",
      "Node: 87, Acc: 0.4027777777777778\n",
      "---------------------------------\n",
      "Node: 88, Acc: 0.38425925925925924\n",
      "---------------------------------\n",
      "Node: 89, Acc: 0.37962962962962965\n",
      "---------------------------------\n",
      "Node: 90, Acc: 0.39351851851851855\n",
      "---------------------------------\n",
      "Node: 91, Acc: 0.39351851851851855\n",
      "---------------------------------\n",
      "Node: 92, Acc: 0.37962962962962965\n",
      "---------------------------------\n",
      "Node: 93, Acc: 0.375\n",
      "---------------------------------\n",
      "Node: 94, Acc: 0.375\n",
      "---------------------------------\n",
      "Node: 95, Acc: 0.37962962962962965\n",
      "---------------------------------\n",
      "Node: 96, Acc: 0.39814814814814814\n",
      "---------------------------------\n",
      "Node: 97, Acc: 0.37037037037037035\n",
      "---------------------------------\n",
      "Node: 98, Acc: 0.37962962962962965\n",
      "---------------------------------\n",
      "Node: 99, Acc: 0.3888888888888889\n",
      "---------------------------------\n",
      "Node: 100, Acc: 0.375\n",
      "---------------------------------\n",
      "Node: 101, Acc: 0.3888888888888889\n",
      "---------------------------------\n",
      "Node: 102, Acc: 0.3888888888888889\n",
      "---------------------------------\n",
      "Node: 103, Acc: 0.39351851851851855\n",
      "---------------------------------\n",
      "Node: 104, Acc: 0.3888888888888889\n",
      "---------------------------------\n",
      "Node: 105, Acc: 0.39351851851851855\n",
      "---------------------------------\n",
      "Node: 106, Acc: 0.37037037037037035\n",
      "---------------------------------\n",
      "Node: 107, Acc: 0.39351851851851855\n",
      "---------------------------------\n",
      "Node: 108, Acc: 0.4027777777777778\n",
      "---------------------------------\n",
      "Node: 109, Acc: 0.37962962962962965\n",
      "---------------------------------\n",
      "Node: 110, Acc: 0.3888888888888889\n",
      "---------------------------------\n",
      "Node: 111, Acc: 0.39351851851851855\n",
      "---------------------------------\n",
      "Node: 112, Acc: 0.38425925925925924\n",
      "---------------------------------\n",
      "Node: 113, Acc: 0.37037037037037035\n",
      "---------------------------------\n",
      "Node: 114, Acc: 0.3888888888888889\n",
      "---------------------------------\n",
      "Node: 115, Acc: 0.37962962962962965\n",
      "---------------------------------\n",
      "Node: 116, Acc: 0.4074074074074074\n",
      "---------------------------------\n",
      "Node: 117, Acc: 0.39351851851851855\n",
      "---------------------------------\n",
      "Node: 118, Acc: 0.41203703703703703\n",
      "---------------------------------\n",
      "Node: 119, Acc: 0.375\n",
      "---------------------------------\n"
     ]
    }
   ],
   "source": [
    "for i in range(70,120):\n",
    "  forest_training(X_train, X_test, y_train, y_test, i)"
   ]
  },
  {
   "cell_type": "code",
   "execution_count": 56,
   "metadata": {
    "id": "NymJGjkD9YoA"
   },
   "outputs": [],
   "source": [
    "cf = RandomForestClassifier(n_estimators=118,bootstrap=True )\n",
    "cf.fit(X_train, y_train.values.ravel())\n",
    "\n",
    "y_pred = cf.predict(X_test)"
   ]
  },
  {
   "cell_type": "code",
   "execution_count": 57,
   "metadata": {
    "id": "Aqk1Ug5s91z6"
   },
   "outputs": [],
   "source": [
    "cm = confusion_matrix(y_test, y_pred)"
   ]
  },
  {
   "cell_type": "code",
   "execution_count": 58,
   "metadata": {
    "colab": {
     "base_uri": "https://localhost:8080/"
    },
    "executionInfo": {
     "elapsed": 2,
     "status": "ok",
     "timestamp": 1670692029084,
     "user": {
      "displayName": "Farhan Sayyed",
      "userId": "08467715344695792582"
     },
     "user_tz": -330
    },
    "id": "2FWhJwCf-EVB",
    "outputId": "7a350e62-f81e-49c6-cade-a10d80621808"
   },
   "outputs": [
    {
     "data": {
      "text/plain": [
       "array([[27,  4,  9,  4,  0],\n",
       "       [ 5, 16, 12,  6,  7],\n",
       "       [ 0,  4, 25,  5,  7],\n",
       "       [ 3,  8,  5,  9, 14],\n",
       "       [ 1, 15,  7, 18,  5]], dtype=int64)"
      ]
     },
     "execution_count": 58,
     "metadata": {},
     "output_type": "execute_result"
    }
   ],
   "source": [
    "cm"
   ]
  },
  {
   "cell_type": "code",
   "execution_count": 59,
   "metadata": {
    "colab": {
     "base_uri": "https://localhost:8080/",
     "height": 322
    },
    "executionInfo": {
     "elapsed": 702,
     "status": "error",
     "timestamp": 1670691533944,
     "user": {
      "displayName": "Farhan Sayyed",
      "userId": "08467715344695792582"
     },
     "user_tz": -330
    },
    "id": "vDmEZioz-FSw",
    "outputId": "8501d56b-136e-4cdb-c0ef-07d5ec4faf6f"
   },
   "outputs": [
    {
     "data": {
      "image/png": "[encoded data removed]",
      "text/plain": [
       "<Figure size 800x500 with 2 Axes>"
      ]
     },
     "metadata": {},
     "output_type": "display_data"
    }
   ],
   "source": [
    "labels=['OverSpeeding','Drunken Driving','Driving On wrong side','Jumping red Lights','Use of Mobile Phones']\n",
    "x=[1,2,3,4,5]\n",
    "plt.figure(figsize=(8,5))\n",
    "sns.heatmap(cm, annot=True, cmap=\"Blues\")\n",
    "plt.xticks(x, labels, rotation = 90)\n",
    "plt.yticks(x, labels, rotation = 0)\n",
    "plt.show()"
   ]
  },
  {
   "cell_type": "code",
   "execution_count": null,
   "metadata": {
    "id": "kQSDOla3-I-3"
   },
   "outputs": [],
   "source": []
  }
 ],
 "metadata": {
  "colab": {
   "authorship_tag": "ABX9TyMIRVTaWpKbjH0EimWVI0um",
   "provenance": []
  },
  "kernelspec": {
   "display_name": "Python 3 (ipykernel)",
   "language": "python",
   "name": "python3"
  },
  "language_info": {
   "codemirror_mode": {
    "name": "ipython",
    "version": 3
   },
   "file_extension": ".py",
   "mimetype": "text/x-python",
   "name": "python",
   "nbconvert_exporter": "python",
   "pygments_lexer": "ipython3",
   "version": "3.9.13"
  }
 },
 "nbformat": 4,
 "nbformat_minor": 1
}
